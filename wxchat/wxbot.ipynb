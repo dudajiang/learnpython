{
 "cells": [
  {
   "cell_type": "code",
   "execution_count": 29,
   "metadata": {},
   "outputs": [
    {
     "name": "stderr",
     "output_type": "stream",
     "text": [
      "Please press confirm on your phone.\n",
      "Loading the contact, this may take a little while.\n",
      "Login successfully as 姜茶.\n"
     ]
    }
   ],
   "source": [
    "from wxpy import *\n",
    "bot = Bot(cache_path=True)"
   ]
  },
  {
   "cell_type": "code",
   "execution_count": 2,
   "metadata": {},
   "outputs": [
    {
     "data": {
      "text/plain": [
       "↪ 文件传输助手 : hello dudajiang (Text)"
      ]
     },
     "execution_count": 2,
     "metadata": {},
     "output_type": "execute_result"
    }
   ],
   "source": [
    "# bot.file_helper.send(\"hello dudajiang\")"
   ]
  },
  {
   "cell_type": "code",
   "execution_count": 36,
   "metadata": {},
   "outputs": [],
   "source": [
    "import json\n",
    "import requests\n",
    "\n",
    "zanghua = [\"鸡巴\",\"叽霸\",\"操\"]\n",
    "\n",
    "def auto_reply_qingyunke(text):\n",
    "    url = \"http://api.qingyunke.com/api.php?key=free&appid=0&msg=\"\n",
    "    url = url+text\n",
    "    r = requests.post(url)\n",
    "    result = json.loads(r.content)   \n",
    "    content = result[\"content\"]\n",
    "    if any(name in content for name in zanghua):\n",
    "        content = \"不明白\"\n",
    "    return content\n",
    "\n",
    "def auto_reply_tuling123(text):     \n",
    "    url = \"http://www.tuling123.com/openapi/api\"\n",
    "    api_key = \"aea998adfe2d47578b2fdaa4af22e8d9\"\n",
    "    payload = {\n",
    "        \"key\": api_key,\n",
    "        \"info\": text,\n",
    "        \"userid\": \"123456\"\n",
    "    }\n",
    "    r = requests.post(url, data=json.dumps(payload))     \n",
    "    result = json.loads(r.content)     \n",
    "    return result[\"text\"]"
   ]
  },
  {
   "cell_type": "code",
   "execution_count": 37,
   "metadata": {},
   "outputs": [],
   "source": [
    "my_friend = bot.friends().search('AAA.爸爸')[0]\n",
    "# my_friend.send('Hello WeChat!')"
   ]
  },
  {
   "cell_type": "code",
   "execution_count": 38,
   "metadata": {},
   "outputs": [
    {
     "ename": "MultipleInstanceError",
     "evalue": "Multiple incompatible subclass instances of InteractiveShellEmbed are being created.",
     "output_type": "error",
     "traceback": [
      "\u001b[0;31m---------------------------------------------------------------------------\u001b[0m",
      "\u001b[0;31mMultipleInstanceError\u001b[0m                     Traceback (most recent call last)",
      "\u001b[0;32m<ipython-input-38-9b0b74fff9cd>\u001b[0m in \u001b[0;36m<module>\u001b[0;34m()\u001b[0m\n\u001b[1;32m      8\u001b[0m     \u001b[0;32mreturn\u001b[0m \u001b[0mauto_reply_qingyunke\u001b[0m\u001b[0;34m(\u001b[0m\u001b[0mmsg\u001b[0m\u001b[0;34m.\u001b[0m\u001b[0mtext\u001b[0m\u001b[0;34m)\u001b[0m\u001b[0;34m\u001b[0m\u001b[0m\n\u001b[1;32m      9\u001b[0m \u001b[0;34m\u001b[0m\u001b[0m\n\u001b[0;32m---> 10\u001b[0;31m \u001b[0membed\u001b[0m\u001b[0;34m(\u001b[0m\u001b[0;34m)\u001b[0m\u001b[0;34m\u001b[0m\u001b[0m\n\u001b[0m",
      "\u001b[0;32m/anaconda3/lib/python3.6/site-packages/wxpy/utils/console.py\u001b[0m in \u001b[0;36membed\u001b[0;34m(local, banner, shell)\u001b[0m\n\u001b[1;32m     72\u001b[0m     \u001b[0;32mfor\u001b[0m \u001b[0m_shell\u001b[0m \u001b[0;32min\u001b[0m \u001b[0mshell\u001b[0m\u001b[0;34m,\u001b[0m \u001b[0m_ipython\u001b[0m\u001b[0;34m,\u001b[0m \u001b[0m_bpython\u001b[0m\u001b[0;34m,\u001b[0m \u001b[0m_python\u001b[0m\u001b[0;34m:\u001b[0m\u001b[0;34m\u001b[0m\u001b[0m\n\u001b[1;32m     73\u001b[0m         \u001b[0;32mtry\u001b[0m\u001b[0;34m:\u001b[0m\u001b[0;34m\u001b[0m\u001b[0m\n\u001b[0;32m---> 74\u001b[0;31m             \u001b[0m_shell\u001b[0m\u001b[0;34m(\u001b[0m\u001b[0mlocal\u001b[0m\u001b[0;34m=\u001b[0m\u001b[0mlocal\u001b[0m\u001b[0;34m,\u001b[0m \u001b[0mbanner\u001b[0m\u001b[0;34m=\u001b[0m\u001b[0mbanner\u001b[0m\u001b[0;34m)\u001b[0m\u001b[0;34m\u001b[0m\u001b[0m\n\u001b[0m\u001b[1;32m     75\u001b[0m         \u001b[0;32mexcept\u001b[0m \u001b[0;34m(\u001b[0m\u001b[0mTypeError\u001b[0m\u001b[0;34m,\u001b[0m \u001b[0mImportError\u001b[0m\u001b[0;34m)\u001b[0m\u001b[0;34m:\u001b[0m\u001b[0;34m\u001b[0m\u001b[0m\n\u001b[1;32m     76\u001b[0m             \u001b[0;32mcontinue\u001b[0m\u001b[0;34m\u001b[0m\u001b[0m\n",
      "\u001b[0;32m/anaconda3/lib/python3.6/site-packages/wxpy/utils/console.py\u001b[0m in \u001b[0;36m_ipython\u001b[0;34m(local, banner)\u001b[0m\n\u001b[1;32m     15\u001b[0m         \u001b[0mbanner1\u001b[0m\u001b[0;34m=\u001b[0m\u001b[0mbanner\u001b[0m\u001b[0;34m,\u001b[0m\u001b[0;34m\u001b[0m\u001b[0m\n\u001b[1;32m     16\u001b[0m         \u001b[0muser_ns\u001b[0m\u001b[0;34m=\u001b[0m\u001b[0mlocal\u001b[0m\u001b[0;34m,\u001b[0m\u001b[0;34m\u001b[0m\u001b[0m\n\u001b[0;32m---> 17\u001b[0;31m         \u001b[0mconfig\u001b[0m\u001b[0;34m=\u001b[0m\u001b[0mload_default_config\u001b[0m\u001b[0;34m(\u001b[0m\u001b[0;34m)\u001b[0m\u001b[0;34m\u001b[0m\u001b[0m\n\u001b[0m\u001b[1;32m     18\u001b[0m     )\n\u001b[1;32m     19\u001b[0m     \u001b[0mshell\u001b[0m\u001b[0;34m(\u001b[0m\u001b[0;34m)\u001b[0m\u001b[0;34m\u001b[0m\u001b[0m\n",
      "\u001b[0;32m/anaconda3/lib/python3.6/site-packages/traitlets/config/configurable.py\u001b[0m in \u001b[0;36minstance\u001b[0;34m(cls, *args, **kwargs)\u001b[0m\n\u001b[1;32m    421\u001b[0m             raise MultipleInstanceError(\n\u001b[1;32m    422\u001b[0m                 \u001b[0;34m'Multiple incompatible subclass instances of '\u001b[0m\u001b[0;34m\u001b[0m\u001b[0m\n\u001b[0;32m--> 423\u001b[0;31m                 \u001b[0;34m'%s are being created.'\u001b[0m \u001b[0;34m%\u001b[0m \u001b[0mcls\u001b[0m\u001b[0;34m.\u001b[0m\u001b[0m__name__\u001b[0m\u001b[0;34m\u001b[0m\u001b[0m\n\u001b[0m\u001b[1;32m    424\u001b[0m             )\n\u001b[1;32m    425\u001b[0m \u001b[0;34m\u001b[0m\u001b[0m\n",
      "\u001b[0;31mMultipleInstanceError\u001b[0m: Multiple incompatible subclass instances of InteractiveShellEmbed are being created."
     ]
    }
   ],
   "source": [
    "@bot.register()\n",
    "def print_others(msg):\n",
    "    print(msg)\n",
    "\n",
    "@bot.register(my_friend)\n",
    "def reply_my_friend(msg):\n",
    "    print(msg)\n",
    "    return auto_reply_qingyunke(msg.text)\n",
    "\n",
    "embed()"
   ]
  },
  {
   "cell_type": "code",
   "execution_count": 39,
   "metadata": {},
   "outputs": [
    {
     "data": {
      "text/plain": [
       "'还没吃呢，你请客吗？'"
      ]
     },
     "execution_count": 39,
     "metadata": {},
     "output_type": "execute_result"
    },
    {
     "name": "stdout",
     "output_type": "stream",
     "text": [
      "AAA.爸爸 : 你好 (Text)\n",
      "AAA.爸爸 : 想我哦 (Text)\n",
      "AAA.爸爸 : 哈哈哈 (Text)\n",
      "AAA.爸爸 : 啦啦啦 (Text)\n",
      "AAA.爸爸 : 你会唱歌？ (Text)\n",
      "AAA.爸爸 : 厉害呀 (Text)\n",
      "AAA.爸爸 : 小鱼是条鱼 (Text)\n",
      "AAA.爸爸 : 长得像金桔 (Text)\n",
      "AAA.爸爸 : 碰见一头驴 (Text)\n",
      "AAA.爸爸 : 被它踩成泥 (Text)\n",
      "AAA.爸爸 : 泥像烂鸭梨 (Text)\n",
      "AAA.爸爸 : 腐烂变成糜 (Text)\n",
      "AAA.爸爸 : 滚滚滚 (Text)\n",
      "AAA.爸爸 : 666 (Text)\n",
      "AAA.爸爸 : 对呀，666 (Text)\n",
      "AAA.爸爸 : 咋错啦？ (Text)\n"
     ]
    },
    {
     "name": "stderr",
     "output_type": "stream",
     "text": [
      "LOG OUT!\n"
     ]
    }
   ],
   "source": [
    "aa = \"dudajiang\"\n",
    "aa = auto_reply_qingyunke(\"吃了吗？\")\n",
    "aa"
   ]
  },
  {
   "cell_type": "code",
   "execution_count": null,
   "metadata": {},
   "outputs": [],
   "source": []
  },
  {
   "cell_type": "code",
   "execution_count": null,
   "metadata": {},
   "outputs": [],
   "source": []
  }
 ],
 "metadata": {
  "kernelspec": {
   "display_name": "Python 3",
   "language": "python",
   "name": "python3"
  },
  "language_info": {
   "codemirror_mode": {
    "name": "ipython",
    "version": 3
   },
   "file_extension": ".py",
   "mimetype": "text/x-python",
   "name": "python",
   "nbconvert_exporter": "python",
   "pygments_lexer": "ipython3",
   "version": "3.6.5"
  }
 },
 "nbformat": 4,
 "nbformat_minor": 2
}
