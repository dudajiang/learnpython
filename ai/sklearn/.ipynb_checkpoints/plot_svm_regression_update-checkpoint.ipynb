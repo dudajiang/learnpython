{
 "cells": [
  {
   "cell_type": "code",
   "execution_count": 1,
   "metadata": {},
   "outputs": [],
   "source": [
    "%matplotlib inline"
   ]
  },
  {
   "cell_type": "markdown",
   "metadata": {},
   "source": [
    "\n",
    "===================================================================\n",
    "Support Vector Regression (SVR) using linear and non-linear kernels\n",
    "===================================================================\n",
    "\n",
    "Toy example of 1D regression using linear, polynomial and RBF kernels.\n",
    "\n",
    "\n"
   ]
  },
  {
   "cell_type": "code",
   "execution_count": 2,
   "metadata": {},
   "outputs": [
    {
     "name": "stdout",
     "output_type": "stream",
     "text": [
      "Automatically created module for IPython interactive environment\n"
     ]
    }
   ],
   "source": [
    "print(__doc__)\n",
    "\n",
    "import numpy as np\n",
    "from sklearn.svm import SVR\n",
    "import matplotlib.pyplot as plt"
   ]
  },
  {
   "cell_type": "code",
   "execution_count": 3,
   "metadata": {},
   "outputs": [],
   "source": [
    "# #############################################################################\n",
    "# Generate sample data\n",
    "X = np.sort(5 * np.random.rand(40, 1), axis=0)\n",
    "y = np.sin(X).ravel()\n",
    "z = np.sin(X)"
   ]
  },
  {
   "cell_type": "code",
   "execution_count": 11,
   "metadata": {},
   "outputs": [
    {
     "data": {
      "text/plain": [
       "array([[0.02935038],\n",
       "       [0.04196279],\n",
       "       [0.21098426],\n",
       "       [0.23704147],\n",
       "       [0.38871281],\n",
       "       [0.42550184],\n",
       "       [0.84270408],\n",
       "       [0.90169353],\n",
       "       [0.99427774],\n",
       "       [1.09192544],\n",
       "       [1.10413509],\n",
       "       [1.22186869],\n",
       "       [1.25153173],\n",
       "       [1.25297573],\n",
       "       [1.30877738],\n",
       "       [1.33634991],\n",
       "       [1.4844531 ],\n",
       "       [1.65418047],\n",
       "       [2.01331285],\n",
       "       [2.07888976],\n",
       "       [2.09517438],\n",
       "       [2.50385452],\n",
       "       [2.80025239],\n",
       "       [2.82668395],\n",
       "       [2.8477613 ],\n",
       "       [2.8574605 ],\n",
       "       [3.29691177],\n",
       "       [3.43860315],\n",
       "       [3.54986825],\n",
       "       [3.78910679],\n",
       "       [3.95148292],\n",
       "       [3.99067787],\n",
       "       [4.08627413],\n",
       "       [4.25297138],\n",
       "       [4.32565773],\n",
       "       [4.35251415],\n",
       "       [4.47458994],\n",
       "       [4.57057727],\n",
       "       [4.74922537],\n",
       "       [4.99519627]])"
      ]
     },
     "execution_count": 11,
     "metadata": {},
     "output_type": "execute_result"
    }
   ],
   "source": [
    "X"
   ]
  },
  {
   "cell_type": "code",
   "execution_count": 20,
   "metadata": {},
   "outputs": [],
   "source": [
    "tt =np.random.rand(40, 1)"
   ]
  },
  {
   "cell_type": "code",
   "execution_count": 21,
   "metadata": {},
   "outputs": [
    {
     "data": {
      "text/plain": [
       "array([[0.37502119],\n",
       "       [0.42292024],\n",
       "       [0.55966286],\n",
       "       [0.8813563 ],\n",
       "       [0.20664596],\n",
       "       [0.62212921],\n",
       "       [0.43643606],\n",
       "       [0.47218545],\n",
       "       [0.75755458],\n",
       "       [0.52137166],\n",
       "       [0.34100186],\n",
       "       [0.98300913],\n",
       "       [0.74035351],\n",
       "       [0.28689136],\n",
       "       [0.97377643],\n",
       "       [0.37067151],\n",
       "       [0.05906394],\n",
       "       [0.76308425],\n",
       "       [0.63703473],\n",
       "       [0.76841965],\n",
       "       [0.61569427],\n",
       "       [0.46699061],\n",
       "       [0.47779552],\n",
       "       [0.50654918],\n",
       "       [0.96349819],\n",
       "       [0.98354586],\n",
       "       [0.06649692],\n",
       "       [0.67767747],\n",
       "       [0.35116496],\n",
       "       [0.04515195],\n",
       "       [0.5466425 ],\n",
       "       [0.29270078],\n",
       "       [0.99824083],\n",
       "       [0.18224402],\n",
       "       [0.34854417],\n",
       "       [0.48801255],\n",
       "       [0.47105016],\n",
       "       [0.73731025],\n",
       "       [0.82623221],\n",
       "       [0.78109974]])"
      ]
     },
     "execution_count": 21,
     "metadata": {},
     "output_type": "execute_result"
    }
   ],
   "source": [
    "tt"
   ]
  },
  {
   "cell_type": "code",
   "execution_count": 22,
   "metadata": {},
   "outputs": [],
   "source": [
    "XX = np.hstack((X, tt))"
   ]
  },
  {
   "cell_type": "code",
   "execution_count": 23,
   "metadata": {},
   "outputs": [
    {
     "data": {
      "text/plain": [
       "array([[0.02935038, 0.37502119],\n",
       "       [0.04196279, 0.42292024],\n",
       "       [0.21098426, 0.55966286],\n",
       "       [0.23704147, 0.8813563 ],\n",
       "       [0.38871281, 0.20664596],\n",
       "       [0.42550184, 0.62212921],\n",
       "       [0.84270408, 0.43643606],\n",
       "       [0.90169353, 0.47218545],\n",
       "       [0.99427774, 0.75755458],\n",
       "       [1.09192544, 0.52137166],\n",
       "       [1.10413509, 0.34100186],\n",
       "       [1.22186869, 0.98300913],\n",
       "       [1.25153173, 0.74035351],\n",
       "       [1.25297573, 0.28689136],\n",
       "       [1.30877738, 0.97377643],\n",
       "       [1.33634991, 0.37067151],\n",
       "       [1.4844531 , 0.05906394],\n",
       "       [1.65418047, 0.76308425],\n",
       "       [2.01331285, 0.63703473],\n",
       "       [2.07888976, 0.76841965],\n",
       "       [2.09517438, 0.61569427],\n",
       "       [2.50385452, 0.46699061],\n",
       "       [2.80025239, 0.47779552],\n",
       "       [2.82668395, 0.50654918],\n",
       "       [2.8477613 , 0.96349819],\n",
       "       [2.8574605 , 0.98354586],\n",
       "       [3.29691177, 0.06649692],\n",
       "       [3.43860315, 0.67767747],\n",
       "       [3.54986825, 0.35116496],\n",
       "       [3.78910679, 0.04515195],\n",
       "       [3.95148292, 0.5466425 ],\n",
       "       [3.99067787, 0.29270078],\n",
       "       [4.08627413, 0.99824083],\n",
       "       [4.25297138, 0.18224402],\n",
       "       [4.32565773, 0.34854417],\n",
       "       [4.35251415, 0.48801255],\n",
       "       [4.47458994, 0.47105016],\n",
       "       [4.57057727, 0.73731025],\n",
       "       [4.74922537, 0.82623221],\n",
       "       [4.99519627, 0.78109974]])"
      ]
     },
     "execution_count": 23,
     "metadata": {},
     "output_type": "execute_result"
    }
   ],
   "source": [
    "XX"
   ]
  },
  {
   "cell_type": "code",
   "execution_count": 32,
   "metadata": {},
   "outputs": [],
   "source": [
    "y = np.sin(X)+tt"
   ]
  },
  {
   "cell_type": "code",
   "execution_count": 33,
   "metadata": {},
   "outputs": [],
   "source": [
    "y = y.ravel()"
   ]
  },
  {
   "cell_type": "code",
   "execution_count": 30,
   "metadata": {},
   "outputs": [],
   "source": [
    "# y[::5] += 3 * (0.5 - np.random.rand(8))"
   ]
  },
  {
   "cell_type": "code",
   "execution_count": 34,
   "metadata": {},
   "outputs": [
    {
     "data": {
      "text/plain": [
       "array([ 0.40436736,  0.46487071,  0.7690853 ,  1.11618415,  0.58564353,\n",
       "        1.03490713,  1.18288133,  1.25656395,  1.59592006,  1.40888742,\n",
       "        1.23407726,  1.92274902,  1.68982001,  1.23681009,  1.93964541,\n",
       "        1.3433146 ,  1.05533867,  1.75960981,  1.54071165,  1.64209331,\n",
       "        1.48132977,  1.06237029,  0.81254586,  0.81627885,  1.25311968,\n",
       "        1.26387037, -0.08819846,  0.38501457, -0.04586228, -0.55805363,\n",
       "       -0.17756901, -0.45797557,  0.1879305 , -0.71406688, -0.57760269,\n",
       "       -0.44792835, -0.50080864, -0.25265131, -0.1730894 , -0.1791761 ])"
      ]
     },
     "execution_count": 34,
     "metadata": {},
     "output_type": "execute_result"
    }
   ],
   "source": [
    "y"
   ]
  },
  {
   "cell_type": "code",
   "execution_count": null,
   "metadata": {},
   "outputs": [],
   "source": []
  },
  {
   "cell_type": "code",
   "execution_count": 39,
   "metadata": {},
   "outputs": [
    {
     "name": "stdout",
     "output_type": "stream",
     "text": [
      "[-0.2789171]\n"
     ]
    },
    {
     "data": {
      "image/png": "[encoded data removed]",
      "text/plain": [
       "<matplotlib.figure.Figure at 0x1a0aae73d0>"
      ]
     },
     "metadata": {},
     "output_type": "display_data"
    }
   ],
   "source": [
    "# #############################################################################\n",
    "# Fit regression model\n",
    "svr_rbf = SVR(kernel='rbf', C=1e3, gamma=0.1)\n",
    "svr_lin = SVR(kernel='linear', C=1e3)\n",
    "svr_poly = SVR(kernel='poly', C=1e3, degree=2)\n",
    "y_rbf = svr_rbf.fit(XX, y).predict(XX)\n",
    "y_lin = svr_lin.fit(XX, y).predict(XX)\n",
    "y_poly = svr_poly.fit(XX, y).predict(XX)\n",
    "\n",
    "dudajiang = svr_rbf.fit(XX, y).predict([[0.42550184, 0.62212921]])\n",
    "print(dudajiang)\n",
    "\n",
    "# #############################################################################\n",
    "# Look at the results\n",
    "lw = 2\n",
    "plt.scatter(X, y, color='darkorange', label='data')\n",
    "plt.plot(X, y_rbf, color='navy', lw=lw, label='RBF model')\n",
    "#plt.plot(X, y_lin, color='c', lw=lw, label='Linear model')\n",
    "#plt.plot(X, y_poly, color='cornflowerblue', lw=lw, label='Polynomial model')\n",
    "plt.xlabel('data')\n",
    "plt.ylabel('target')\n",
    "plt.title('Support Vector Regression')\n",
    "plt.legend()\n",
    "plt.show()"
   ]
  }
 ],
 "metadata": {
  "kernelspec": {
   "display_name": "Python 3",
   "language": "python",
   "name": "python3"
  },
  "language_info": {
   "codemirror_mode": {
    "name": "ipython",
    "version": 2
   },
   "file_extension": ".py",
   "mimetype": "text/x-python",
   "name": "python",
   "nbconvert_exporter": "python",
   "pygments_lexer": "ipython2",
   "version": "2.7.14"
  }
 },
 "nbformat": 4,
 "nbformat_minor": 1
}
