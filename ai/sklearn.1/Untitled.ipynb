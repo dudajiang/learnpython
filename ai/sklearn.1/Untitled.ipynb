{
 "cells": [
  {
   "cell_type": "code",
   "execution_count": 43,
   "metadata": {},
   "outputs": [],
   "source": [
    "%matplotlib inline\n",
    "import pandas as pd\n",
    "import numpy as np\n",
    "from sklearn.svm import SVR\n",
    "import matplotlib.pyplot as plt"
   ]
  },
  {
   "cell_type": "code",
   "execution_count": null,
   "metadata": {},
   "outputs": [],
   "source": []
  },
  {
   "cell_type": "code",
   "execution_count": 44,
   "metadata": {},
   "outputs": [],
   "source": [
    "df = pd.DataFrame(pd.read_csv('polyline.csv',header=0))\n",
    "# print(df)\n",
    "XX = np.array(df)\n",
    "\n",
    "# X存放XX中的第1到第5列，共5列\n",
    "# y存放XX中的第6列，也就是通过X中\n",
    "X = XX[:, 1:6]\n",
    "y = XX[:, 6]\n",
    "\n",
    "# 用来进行预测的数据10行\n",
    "Xzhou = X[0:10,0]\n",
    "Xpre = X[0:10]\n",
    "yreal = y[0:10]"
   ]
  },
  {
   "cell_type": "code",
   "execution_count": 45,
   "metadata": {},
   "outputs": [
    {
     "data": {
      "text/plain": [
       "array([     0,    854,    174,    422,     81,    297, 763150])"
      ]
     },
     "execution_count": 45,
     "metadata": {},
     "output_type": "execute_result"
    }
   ],
   "source": [
    "XX[0]"
   ]
  },
  {
   "cell_type": "code",
   "execution_count": null,
   "metadata": {},
   "outputs": [],
   "source": [
    "svr_rbf = SVR(kernel='rbf', C=1e3, gamma=0.1)\n",
    "svr_lin = SVR(kernel='linear', C=1e3)\n",
    "svr_poly = SVR(kernel='poly', C=1e3, degree=2)\n",
    "y_rbf = svr_rbf.fit(X, y).predict(Xpre)\n",
    "# y_lin = svr_lin.fit(X, y).predict(Xpre)\n",
    "y_poly = svr_poly.fit(X, y).predict(Xpre)\n"
   ]
  },
  {
   "cell_type": "code",
   "execution_count": 26,
   "metadata": {},
   "outputs": [
    {
     "data": {
      "text/plain": [
       "array([763150, 131925, 462184, ..., 780276, 471162, 250942])"
      ]
     },
     "execution_count": 26,
     "metadata": {},
     "output_type": "execute_result"
    }
   ],
   "source": [
    "lw = 2\n",
    "plt.scatter(Xzhou, y, color='darkorange', label='data')\n",
    "plt.plot(Xzhou, y_rbf, color='navy', lw=lw, label='RBF model')\n",
    "# plt.plot(Xzhou, y_lin, color='c', lw=lw, label='Linear model')\n",
    "plt.plot(Xzhou, y_poly, color='cornflowerblue', lw=lw, label='Polynomial model')\n",
    "plt.xlabel('data')\n",
    "plt.ylabel('target')\n",
    "plt.title('Support Vector Regression')\n",
    "plt.legend()\n",
    "plt.show()"
   ]
  }
 ],
 "metadata": {
  "kernelspec": {
   "display_name": "Python 3",
   "language": "python",
   "name": "python3"
  },
  "language_info": {
   "codemirror_mode": {
    "name": "ipython",
    "version": 2
   },
   "file_extension": ".py",
   "mimetype": "text/x-python",
   "name": "python",
   "nbconvert_exporter": "python",
   "pygments_lexer": "ipython2",
   "version": "2.7.14"
  }
 },
 "nbformat": 4,
 "nbformat_minor": 2
}
